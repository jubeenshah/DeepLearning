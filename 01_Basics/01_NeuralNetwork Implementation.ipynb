{
 "cells": [
  {
   "cell_type": "markdown",
   "metadata": {},
   "source": [
    "# Simple Neural Network Implementation\n",
    "    Inputs  Output \n",
    "    A B C     O\n",
    "    -----    ---\n",
    "    0 0 1     0\n",
    "    1 1 1     1\n",
    "    1 0 1     1\n",
    "    0 1 1     0"
   ]
  },
  {
   "cell_type": "code",
   "execution_count": 27,
   "metadata": {},
   "outputs": [],
   "source": [
    "import numpy as np"
   ]
  },
  {
   "cell_type": "markdown",
   "metadata": {},
   "source": [
    "https://iamtrask.github.io/img/sigmoid.png "
   ]
  },
  {
   "cell_type": "code",
   "execution_count": 39,
   "metadata": {},
   "outputs": [
    {
     "name": "stdout",
     "output_type": "stream",
     "text": [
      "Output after training (10,000 Iterations) :  \n",
      "[[ 0.00966449]\n",
      " [ 0.00786506]\n",
      " [ 0.99358898]\n",
      " [ 0.99211957]]\n"
     ]
    }
   ],
   "source": [
    "#Sigmoid function\n",
    "def sigmoid(x, deriv = False):\n",
    "    if deriv == True:\n",
    "        return x * (1 - x)\n",
    "    return 1/(1+np.exp(-x))\n",
    "\n",
    "#input data set \n",
    "X = np.array ([ [0,0,1],\n",
    "                [0,1,1],\n",
    "                [1,0,1],\n",
    "                [1,1,1]\n",
    "                ])\n",
    "#output dataset\n",
    "Y = np.array([[0,0,1,1]]).T\n",
    "np.random.seed(1)\n",
    "syn0 = 2 * np.random.random((3,1)) -1\n",
    "for iteration in range(10000):\n",
    "    # forward propogation\n",
    "    l0 = X\n",
    "    l1 = sigmoid(np.dot(l0,syn0))\n",
    "    \n",
    "    l1_error = Y - l1\n",
    "    \n",
    "    l1_delta = l1_error * sigmoid(l1, True)\n",
    "    \n",
    "    syn0 = syn0 + np.dot(l0.T, l1_delta)\n",
    "\n",
    "print(\"Output after training (10,000 Iterations) :  \")\n",
    "print(l1)"
   ]
  },
  {
   "cell_type": "code",
   "execution_count": 40,
   "metadata": {},
   "outputs": [
    {
     "name": "stdout",
     "output_type": "stream",
     "text": [
      "Output after training (50,000 Iterations) :  \n",
      "[[ 0.0042779 ]\n",
      " [ 0.00348742]\n",
      " [ 0.99715469]\n",
      " [ 0.99650925]]\n"
     ]
    }
   ],
   "source": [
    "#Sigmoid function\n",
    "def sigmoid(x, deriv = False):\n",
    "    if deriv == True:\n",
    "        return x * (1 - x)\n",
    "    return 1/(1+np.exp(-x))\n",
    "\n",
    "#input data set \n",
    "X = np.array ([ [0,0,1],\n",
    "                [0,1,1],\n",
    "                [1,0,1],\n",
    "                [1,1,1]\n",
    "                ])\n",
    "#output dataset\n",
    "Y = np.array([[0,0,1,1]]).T\n",
    "np.random.seed(1)\n",
    "syn0 = 2 * np.random.random((3,1)) -1\n",
    "for iteration in range(50000):\n",
    "    # forward propogation\n",
    "    l0 = X\n",
    "    l1 = sigmoid(np.dot(l0,syn0))\n",
    "    \n",
    "    l1_error = Y - l1\n",
    "    \n",
    "    l1_delta = l1_error * sigmoid(l1, True)\n",
    "    \n",
    "    syn0 = syn0 + np.dot(l0.T, l1_delta)\n",
    "\n",
    "print(\"Output after training (50,000 Iterations) :  \")\n",
    "print(l1)"
   ]
  },
  {
   "cell_type": "code",
   "execution_count": 41,
   "metadata": {},
   "outputs": [
    {
     "name": "stdout",
     "output_type": "stream",
     "text": [
      "Output after training (500,000 Iterations) :  \n",
      "[[ 0.00134514]\n",
      " [ 0.00109775]\n",
      " [ 0.99910391]\n",
      " [ 0.99890191]]\n"
     ]
    }
   ],
   "source": [
    "#Sigmoid function\n",
    "def sigmoid(x, deriv = False):\n",
    "    if deriv == True:\n",
    "        return x * (1 - x)\n",
    "    return 1/(1+np.exp(-x))\n",
    "\n",
    "#input data set \n",
    "X = np.array ([ [0,0,1],\n",
    "                [0,1,1],\n",
    "                [1,0,1],\n",
    "                [1,1,1]\n",
    "                ])\n",
    "#output dataset\n",
    "Y = np.array([[0,0,1,1]]).T\n",
    "np.random.seed(1)\n",
    "syn0 = 2 * np.random.random((3,1)) -1\n",
    "for iteration in range(500000):\n",
    "    # forward propogation\n",
    "    l0 = X\n",
    "    l1 = sigmoid(np.dot(l0,syn0))\n",
    "    \n",
    "    l1_error = Y - l1\n",
    "    \n",
    "    l1_delta = l1_error * sigmoid(l1, True)\n",
    "    \n",
    "    syn0 = syn0 + np.dot(l0.T, l1_delta)\n",
    "\n",
    "print(\"Output after training (500,000 Iterations) :  \")\n",
    "print(l1)"
   ]
  },
  {
   "cell_type": "code",
   "execution_count": null,
   "metadata": {},
   "outputs": [],
   "source": []
  }
 ],
 "metadata": {
  "kernelspec": {
   "display_name": "Python 3",
   "language": "python",
   "name": "python3"
  },
  "language_info": {
   "codemirror_mode": {
    "name": "ipython",
    "version": 3
   },
   "file_extension": ".py",
   "mimetype": "text/x-python",
   "name": "python",
   "nbconvert_exporter": "python",
   "pygments_lexer": "ipython3",
   "version": "3.6.5"
  }
 },
 "nbformat": 4,
 "nbformat_minor": 2
}
