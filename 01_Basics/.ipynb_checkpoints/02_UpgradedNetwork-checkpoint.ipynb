{
 "cells": [
  {
   "cell_type": "markdown",
   "metadata": {},
   "source": [
    "# A slightly leveled up Problem \n",
    "    Inputs\tOutput\n",
    "    0\t0\t1\t0\n",
    "    0\t1\t1\t1\n",
    "    1\t0\t1\t1\n",
    "    1\t1\t1\t0\n"
   ]
  },
  {
   "cell_type": "code",
   "execution_count": 75,
   "metadata": {},
   "outputs": [],
   "source": [
    "import numpy as np"
   ]
  },
  {
   "cell_type": "code",
   "execution_count": 76,
   "metadata": {},
   "outputs": [],
   "source": [
    "def sigmoid(x, deriv = False):\n",
    "    if deriv == True:\n",
    "        return x * (1 - x)\n",
    "    return 1/(1+np.exp(-x))"
   ]
  },
  {
   "cell_type": "code",
   "execution_count": 77,
   "metadata": {},
   "outputs": [],
   "source": [
    "X = np.array([[0,0,1],\n",
    "              [0,1,1],\n",
    "              [1,0,1],\n",
    "              [1,1,1]])"
   ]
  },
  {
   "cell_type": "code",
   "execution_count": 78,
   "metadata": {},
   "outputs": [],
   "source": [
    "Y = np.array([[0,1,1,0]]).T"
   ]
  },
  {
   "cell_type": "code",
   "execution_count": 79,
   "metadata": {},
   "outputs": [],
   "source": [
    "np.random.seed(1)"
   ]
  },
  {
   "cell_type": "code",
   "execution_count": 80,
   "metadata": {},
   "outputs": [],
   "source": [
    "syn0 = 2*np.random.random((3,4)) - 1\n",
    "syn1 = 2*np.random.random((4,1)) - 1"
   ]
  },
  {
   "cell_type": "code",
   "execution_count": 81,
   "metadata": {},
   "outputs": [
    {
     "name": "stdout",
     "output_type": "stream",
     "text": [
      "Error Rate : 0.496410031903\n",
      "Error Rate : 0.00858452565325\n",
      "Error Rate : 0.00578945986251\n",
      "Error Rate : 0.00462917677677\n",
      "Error Rate : 0.00395876528027\n",
      "Error Rate : 0.00351012256786\n",
      "Error Rate : 0.00318350238587\n",
      "Error Rate : 0.00293230634228\n",
      "Error Rate : 0.00273150641821\n",
      "Error Rate : 0.00256631724004\n",
      "Error Rate : 0.00242737608676\n",
      "Error Rate : 0.00230843116063\n",
      "Error Rate : 0.00220512937522\n",
      "Error Rate : 0.0021143350549\n",
      "Error Rate : 0.00203372513685\n",
      "Error Rate : 0.0019615374333\n",
      "Error Rate : 0.00189640799228\n",
      "Error Rate : 0.00183726256167\n",
      "Error Rate : 0.00178324211169\n",
      "Error Rate : 0.00173365047411\n",
      "Error Rate : 0.00168791673859\n",
      "Error Rate : 0.00164556773349\n",
      "Error Rate : 0.00160620754556\n",
      "Error Rate : 0.00156950204663\n",
      "Error Rate : 0.00153516704308\n",
      "Error Rate : 0.00150295908734\n",
      "Error Rate : 0.00147266827279\n",
      "Error Rate : 0.00144411252553\n",
      "Error Rate : 0.00141713303921\n",
      "Error Rate : 0.00139159059198\n",
      "Error Rate : 0.00136736255113\n",
      "Error Rate : 0.00134434041876\n",
      "Error Rate : 0.0013224278067\n",
      "Error Rate : 0.00130153875482\n",
      "Error Rate : 0.0012815963259\n",
      "Error Rate : 0.00126253142507\n",
      "Error Rate : 0.00124428180241\n",
      "Error Rate : 0.00122679120632\n",
      "Error Rate : 0.00121000866125\n",
      "Error Rate : 0.0011938878489\n",
      "Error Rate : 0.00117838657578\n",
      "Error Rate : 0.00116346631326\n",
      "Error Rate : 0.00114909179874\n",
      "Error Rate : 0.00113523068857\n",
      "Error Rate : 0.00112185325496\n",
      "Error Rate : 0.00110893212046\n",
      "Error Rate : 0.00109644202464\n",
      "Error Rate : 0.0010843596184\n",
      "Error Rate : 0.00107266328223\n",
      "Error Rate : 0.0010613329651\n",
      "Error Rate : 0.00105035004128\n",
      "Error Rate : 0.00103969718287\n",
      "Error Rate : 0.00102935824592\n",
      "Error Rate : 0.00101931816854\n",
      "Error Rate : 0.00100956287955\n",
      "Error Rate : 0.00100007921631\n",
      "Error Rate : 0.000990854850745\n",
      "Error Rate : 0.000981878222658\n",
      "Error Rate : 0.000973138479336\n",
      "Error Rate : 0.000964625420924\n"
     ]
    }
   ],
   "source": [
    "for iteration in range(600000):\n",
    "    l0 = X\n",
    "    l1 = sigmoid(np.dot(l0,syn0))\n",
    "    l2 = sigmoid(np.dot(l1,syn1))\n",
    "    \n",
    "    l2_error = Y - l2\n",
    "    \n",
    "    if iteration%10000 == 0:\n",
    "        print(\"Error Rate : \" + str(np.mean(np.abs(l2_error))))\n",
    "        \n",
    "    l2_delta = l2_error*sigmoid(l2,deriv=True)\n",
    "    \n",
    "    l1_error = l2_delta.dot(syn1.T)\n",
    "    \n",
    "    l1_delta = l1_error * sigmoid(l1,deriv=True)\n",
    "    \n",
    "    syn1 += l1.T.dot(l2_delta)\n",
    "    syn0 += l0.T.dot(l1_delta)"
   ]
  },
  {
   "cell_type": "code",
   "execution_count": null,
   "metadata": {},
   "outputs": [],
   "source": []
  }
 ],
 "metadata": {
  "kernelspec": {
   "display_name": "Python 3",
   "language": "python",
   "name": "python3"
  },
  "language_info": {
   "codemirror_mode": {
    "name": "ipython",
    "version": 3
   },
   "file_extension": ".py",
   "mimetype": "text/x-python",
   "name": "python",
   "nbconvert_exporter": "python",
   "pygments_lexer": "ipython3",
   "version": "3.6.5"
  }
 },
 "nbformat": 4,
 "nbformat_minor": 2
}
